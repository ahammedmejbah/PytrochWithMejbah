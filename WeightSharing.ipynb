{
 "cells": [
  {
   "cell_type": "code",
   "execution_count": 1,
   "id": "86b02886-31fd-4f07-9a8d-be64f1587cdd",
   "metadata": {},
   "outputs": [],
   "source": [
    "import torch\n",
    "import math\n",
    "import random"
   ]
  },
  {
   "cell_type": "code",
   "execution_count": 2,
   "id": "8aab3406-104e-4151-88e0-3a62736fdd70",
   "metadata": {},
   "outputs": [],
   "source": [
    "class DynamicNet(torch.nn.Module):\n",
    "    def __init__(self):\n",
    "        super().__init__()\n",
    "        self.a = torch.nn.Parameter(torch.randn(()))\n",
    "        self.b = torch.nn.Parameter(torch.randn(()))\n",
    "        self.c = torch.nn.Parameter(torch.randn(()))\n",
    "        self.d = torch.nn.Parameter(torch.randn(()))\n",
    "        self.e = torch.nn.Parameter(torch.randn(()))\n",
    "        \n",
    "    def forward(self, x):\n",
    "        y = self.a + self.b * x + self.c * x ** 2 + self.d * x ** 3\n",
    "        for exp in range(4, random.randint(4, 6)):\n",
    "            y = y + self.e * x ** exp\n",
    "        return y\n",
    "\n",
    "    def string(self):\n",
    "        return f'y = {self.a.item()} + {self.b.item()} x + {self.c.item()} x^2 + {self.d.item()} x^3 + {self.e.item()} x^4 ? + {self.e.item()} x^5 ?'"
   ]
  },
  {
   "cell_type": "code",
   "execution_count": 3,
   "id": "cdb9583b-1176-47dd-bae8-bb9c171da462",
   "metadata": {},
   "outputs": [],
   "source": [
    "x = torch.linspace(-math.pi, math.pi, 2000)\n",
    "y = torch.sin(x)"
   ]
  },
  {
   "cell_type": "code",
   "execution_count": 4,
   "id": "d553bae1-3ab6-4085-a1b7-db900ccfe943",
   "metadata": {},
   "outputs": [],
   "source": [
    "model  = DynamicNet()"
   ]
  },
  {
   "cell_type": "code",
   "execution_count": 5,
   "id": "e4155869-7b08-44b3-abc8-dfa6af4b469f",
   "metadata": {},
   "outputs": [],
   "source": [
    "criterion = torch.nn.MSELoss(reduction = 'sum')\n",
    "optimizer = torch.optim.SGD(model.parameters(), lr=1e-8, momentum=0.9)"
   ]
  },
  {
   "cell_type": "code",
   "execution_count": 6,
   "id": "5c16fadc-2001-4e0e-b003-ce9f55771bcb",
   "metadata": {},
   "outputs": [
    {
     "name": "stdout",
     "output_type": "stream",
     "text": [
      "1999 5556.8515625\n",
      "3999 2298.359130859375\n",
      "5999 1025.5826416015625\n",
      "7999 463.5094909667969\n",
      "9999 223.74765014648438\n",
      "11999 103.8669204711914\n",
      "13999 50.486270904541016\n",
      "15999 26.790607452392578\n",
      "17999 16.983007431030273\n",
      "19999 12.41978645324707\n",
      "21999 10.389176368713379\n",
      "23999 9.413751602172852\n",
      "25999 9.12338924407959\n",
      "27999 8.95497989654541\n",
      "29999 8.682680130004883\n",
      "Result: y = -0.001578662428073585 + 0.8500065207481384 x + -0.0002129127096850425 x^2 + -0.09270591288805008 x^3 + 0.0001547481369925663 x^4 ? + 0.0001547481369925663 x^5 ?\n"
     ]
    }
   ],
   "source": [
    "for  i in range(30000):\n",
    "    yPred  = model(x)\n",
    "    loss = criterion(yPred, y)\n",
    "    if i%2000 == 1999:\n",
    "        print(i, loss.item())\n",
    "        \n",
    "    optimizer.zero_grad()\n",
    "    loss.backward()\n",
    "    optimizer.step()\n",
    "    \n",
    "print(f\"Result: {model.string()}\")"
   ]
  }
 ],
 "metadata": {
  "kernelspec": {
   "display_name": "Python 3 (ipykernel)",
   "language": "python",
   "name": "python3"
  },
  "language_info": {
   "codemirror_mode": {
    "name": "ipython",
    "version": 3
   },
   "file_extension": ".py",
   "mimetype": "text/x-python",
   "name": "python",
   "nbconvert_exporter": "python",
   "pygments_lexer": "ipython3",
   "version": "3.7.13"
  }
 },
 "nbformat": 4,
 "nbformat_minor": 5
}
