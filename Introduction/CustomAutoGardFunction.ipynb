{
 "cells": [
  {
   "cell_type": "code",
   "execution_count": 1,
   "id": "5390e624-8a3e-4a30-869e-e855402fd9c0",
   "metadata": {},
   "outputs": [],
   "source": [
    "import torch\n",
    "import math"
   ]
  },
  {
   "cell_type": "code",
   "execution_count": 3,
   "id": "c6cdfa34-ee6b-4889-bf2a-dcdc7c279d41",
   "metadata": {},
   "outputs": [],
   "source": [
    "class legendrePolynomial3(torch.autograd.Function):\n",
    "    @staticmethod\n",
    "    def forward(ctx, input):\n",
    "        ctx.save_for_backward(input)\n",
    "        return 0.5*(5* input**3 - 3*input)\n",
    "    \n",
    "    @staticmethod\n",
    "    def backward(ctx, grad_output):\n",
    "        input, = ctx.saved_tensors\n",
    "        return grad_output * 1.5 * (5 * input **2 -1)"
   ]
  },
  {
   "cell_type": "code",
   "execution_count": 4,
   "id": "b74b93e6-1dc5-4f47-a7cc-0c799ab7396b",
   "metadata": {},
   "outputs": [],
   "source": [
    "dtype = torch.float\n",
    "device = torch.device(\"cuda:0\")"
   ]
  },
  {
   "cell_type": "code",
   "execution_count": 5,
   "id": "d9ed6e85-6560-4139-8ea3-a76e0d56df65",
   "metadata": {},
   "outputs": [],
   "source": [
    "x = torch.linspace(-math.pi, math.pi, 2000, dtype = torch.float,device = device)\n",
    "y = torch.sin(x)"
   ]
  },
  {
   "cell_type": "code",
   "execution_count": 6,
   "id": "30b5c110-12ff-47f8-866f-f8ba5a31567e",
   "metadata": {},
   "outputs": [],
   "source": [
    "a = torch.full((),0.0, device = device, dtype=  dtype, requires_grad = True)\n",
    "b = torch.full((),-1.0, device = device, dtype=  dtype, requires_grad = True)\n",
    "c = torch.full((),0.0, device = device, dtype=  dtype, requires_grad = True)\n",
    "d = torch.full((),0.3, device = device, dtype=  dtype, requires_grad = True)"
   ]
  },
  {
   "cell_type": "code",
   "execution_count": null,
   "id": "e4b20276-37ab-4bbe-a31c-38996e0252dd",
   "metadata": {},
   "outputs": [],
   "source": [
    "learning_rate = 1e-6\n",
    "for i in range(2000):\n",
    "    p3 = legendrePolynomial3.apply\n",
    "    \n",
    "    y_pred = a + b * p3(c+d*x)\n",
    "    \n",
    "    loss = (y_pred - y).pow(2).sum()\n",
    "    if i%100 == 99:\n",
    "        print(i, loss.item())\n",
    "        \n",
    "    loss.backward()\n",
    "    \n",
    "    \n",
    "    with torch.no_grad():\n",
    "        \n",
    "        a-= learning_rate * a.grad\n",
    "        b-= learning_rate * b.grad\n",
    "        c-= learning_rate * c.grad\n",
    "        d -= learning_rate * d.grad\n",
    "        \n",
    "        \n",
    "        a.grad = None\n",
    "        b.grad = None\n",
    "        c.grad = None\n",
    "        d.grad = None\n",
    "        \n",
    "print(f\"Results y = {a.item()} + {b.item() * p3({c.item()} + {d.item()} x^3 \")"
   ]
  }
 ],
 "metadata": {
  "kernelspec": {
   "display_name": "Python 3 (ipykernel)",
   "language": "python",
   "name": "python3"
  },
  "language_info": {
   "codemirror_mode": {
    "name": "ipython",
    "version": 3
   },
   "file_extension": ".py",
   "mimetype": "text/x-python",
   "name": "python",
   "nbconvert_exporter": "python",
   "pygments_lexer": "ipython3",
   "version": "3.7.13"
  }
 },
 "nbformat": 4,
 "nbformat_minor": 5
}
