{
 "cells": [
  {
   "cell_type": "code",
   "execution_count": 1,
   "id": "d3b844a9-38d7-44ce-949c-91b69f10fccf",
   "metadata": {},
   "outputs": [],
   "source": [
    "import torch\n",
    "import math"
   ]
  },
  {
   "cell_type": "code",
   "execution_count": 2,
   "id": "93b46cef-73a2-4560-b15e-6b262ae448ab",
   "metadata": {},
   "outputs": [],
   "source": [
    "class Polynomial3(torch.nn.Module):\n",
    "    def __init__(self):\n",
    "        super().__init__()\n",
    "        self.a = torch.nn.Parameter(torch.randn(()))\n",
    "        self.b = torch.nn.Parameter(torch.randn(()))\n",
    "        self.c = torch.nn.Parameter(torch.randn(()))\n",
    "        self.d = torch.nn.Parameter(torch.randn(()))\n",
    "    def forward(self, x):\n",
    "        return self.a + self.b * x + self.c * x ** 2 + self.d * x ** 3\n",
    "    def string(self):\n",
    "        return f'y = {self.a.item()} + {self.b.item()} x + {self.c.item()} x^2 + {self.d.item()} x^3'"
   ]
  },
  {
   "cell_type": "code",
   "execution_count": 3,
   "id": "86487f2f-a588-46bc-91d3-00c5eddaa839",
   "metadata": {},
   "outputs": [],
   "source": [
    "x = torch.linspace(-math.pi, math.pi, 2000)\n",
    "y = torch.sin(x)"
   ]
  },
  {
   "cell_type": "code",
   "execution_count": 4,
   "id": "81964cd0-edc8-4fea-b5a7-334b792c8629",
   "metadata": {},
   "outputs": [],
   "source": [
    "model = Polynomial3()"
   ]
  },
  {
   "cell_type": "code",
   "execution_count": 5,
   "id": "cbffdbc2-ab93-4610-b92c-26369701936b",
   "metadata": {},
   "outputs": [
    {
     "name": "stdout",
     "output_type": "stream",
     "text": [
      "99 27.726266860961914\n",
      "199 21.95991325378418\n",
      "299 17.961936950683594\n",
      "399 15.18553638458252\n",
      "499 13.2556734085083\n",
      "599 11.913068771362305\n",
      "699 10.97822093963623\n",
      "799 10.326753616333008\n",
      "899 9.872418403625488\n",
      "999 9.555309295654297\n",
      "1099 9.333824157714844\n",
      "1199 9.179018020629883\n",
      "1299 9.0707426071167\n",
      "1399 8.994965553283691\n",
      "1499 8.94189739227295\n",
      "1599 8.904715538024902\n",
      "1699 8.878643989562988\n",
      "1799 8.860355377197266\n",
      "1899 8.847522735595703\n",
      "1999 8.838510513305664\n",
      "Result : y = -0.0046600596979260445 + 0.8581022024154663 x + 0.0008039370295591652 x^2 + -0.0935240238904953 x^3\n"
     ]
    }
   ],
   "source": [
    "criterion = torch.nn.MSELoss(reduction = 'sum')\n",
    "optimizer = torch.optim.SGD(model.parameters(), lr=1e-6)\n",
    "\n",
    "for i  in range(2000):\n",
    "    y_pred=  model(x)\n",
    "    loss = criterion(y_pred, y)\n",
    "    if i %100 == 99:\n",
    "        print(i, loss.item())\n",
    "\n",
    "    optimizer.zero_grad()\n",
    "    loss.backward()\n",
    "    \n",
    "    optimizer.step()\n",
    "print(f\"Result : {model.string()}\")"
   ]
  },
  {
   "cell_type": "code",
   "execution_count": null,
   "id": "34fb2ef6-9eef-491f-8ceb-7560257bc71c",
   "metadata": {},
   "outputs": [],
   "source": []
  },
  {
   "cell_type": "code",
   "execution_count": null,
   "id": "dd57406b-1b46-4330-971b-23d8a134b22c",
   "metadata": {},
   "outputs": [],
   "source": []
  }
 ],
 "metadata": {
  "kernelspec": {
   "display_name": "Python 3 (ipykernel)",
   "language": "python",
   "name": "python3"
  },
  "language_info": {
   "codemirror_mode": {
    "name": "ipython",
    "version": 3
   },
   "file_extension": ".py",
   "mimetype": "text/x-python",
   "name": "python",
   "nbconvert_exporter": "python",
   "pygments_lexer": "ipython3",
   "version": "3.7.13"
  }
 },
 "nbformat": 4,
 "nbformat_minor": 5
}
