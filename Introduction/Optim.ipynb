{
 "cells": [
  {
   "cell_type": "code",
   "execution_count": 1,
   "id": "00e0132b-8132-4376-a1cb-bf4933284a53",
   "metadata": {},
   "outputs": [],
   "source": [
    "import torch\n",
    "import math"
   ]
  },
  {
   "cell_type": "code",
   "execution_count": 2,
   "id": "761c1336-0146-4dc9-be94-008e80011d54",
   "metadata": {},
   "outputs": [],
   "source": [
    "x = torch.linspace(-math.pi, math.pi, 2000)\n",
    "y = torch.sin(x)"
   ]
  },
  {
   "cell_type": "code",
   "execution_count": 3,
   "id": "120706e9-ca4e-4a88-866f-3491e077cdb5",
   "metadata": {},
   "outputs": [],
   "source": [
    "p  = torch.tensor([1, 2, 3])\n",
    "xx = x.unsqueeze(-1).pow(p)"
   ]
  },
  {
   "cell_type": "code",
   "execution_count": 4,
   "id": "806f2deb-81c0-43f0-9afe-90a329e6cc8c",
   "metadata": {},
   "outputs": [],
   "source": [
    "model = torch.nn.Sequential(torch.nn.Linear(3,1),\n",
    "                           torch.nn.Flatten(0, 1))"
   ]
  },
  {
   "cell_type": "code",
   "execution_count": 5,
   "id": "a841c74b-243d-4fd0-bb51-e78fe77089cf",
   "metadata": {},
   "outputs": [
    {
     "name": "stdout",
     "output_type": "stream",
     "text": [
      "99 7769.0439453125\n",
      "199 7756.4091796875\n",
      "299 7744.8740234375\n",
      "399 7733.669921875\n",
      "499 7722.61181640625\n",
      "599 7711.6162109375\n",
      "699 7700.62890625\n",
      "799 7689.6484375\n",
      "899 7678.6796875\n",
      "999 7667.7158203125\n",
      "1099 7656.76220703125\n",
      "1199 7645.81591796875\n",
      "1299 7634.87744140625\n",
      "1399 7623.9482421875\n",
      "1499 7613.02783203125\n",
      "1599 7602.11328125\n",
      "1699 7591.208984375\n",
      "1799 7580.31201171875\n",
      "1899 7569.423828125\n",
      "1999 7558.54443359375\n",
      "Results y = 0.14768584072589874 + 0.1791488230228424 x + 0.1679437905550003 x^2 + -0.139806866645813 x^3\n"
     ]
    }
   ],
   "source": [
    "loss_function = torch.nn.MSELoss(reduction = 'sum')\n",
    "learning_rate = 1e-6\n",
    "optimizer = torch.optim.RMSprop(model.parameters(), lr = learning_rate)\n",
    "for i in range(2000):\n",
    "    y_pred = model(xx)\n",
    "    loss = loss_function(y_pred, y)\n",
    "    if i%100 == 99:\n",
    "        print(i, loss.item())\n",
    "\n",
    "    optimizer.zero_grad()\n",
    "    loss.backward()\n",
    "    \n",
    "    optimizer.step()\n",
    "    \n",
    "linear_layer = model[0]\n",
    "\n",
    "print(f\"Results y = {linear_layer.bias.item()} + {linear_layer.weight[:,0].item()} x + {linear_layer.weight[:, 1].item()} x^2 + {linear_layer.weight[:, 2].item()} x^3\")"
   ]
  },
  {
   "cell_type": "code",
   "execution_count": null,
   "id": "8975f0ed-3c7d-4bb2-bb2b-8a2c059aa27a",
   "metadata": {},
   "outputs": [],
   "source": []
  }
 ],
 "metadata": {
  "kernelspec": {
   "display_name": "Python 3 (ipykernel)",
   "language": "python",
   "name": "python3"
  },
  "language_info": {
   "codemirror_mode": {
    "name": "ipython",
    "version": 3
   },
   "file_extension": ".py",
   "mimetype": "text/x-python",
   "name": "python",
   "nbconvert_exporter": "python",
   "pygments_lexer": "ipython3",
   "version": "3.7.13"
  }
 },
 "nbformat": 4,
 "nbformat_minor": 5
}
