{
 "cells": [
  {
   "cell_type": "code",
   "execution_count": 1,
   "id": "5f554417-3ced-4537-b19e-1a225d7d3681",
   "metadata": {},
   "outputs": [],
   "source": [
    "import torch\n",
    "import math"
   ]
  },
  {
   "cell_type": "code",
   "execution_count": 2,
   "id": "49ba5377-502c-40ee-b13b-d763bea1c368",
   "metadata": {},
   "outputs": [],
   "source": [
    "x = torch.linspace(-math.pi, math.pi, 2000)\n",
    "y = torch.sin(x)"
   ]
  },
  {
   "cell_type": "code",
   "execution_count": 3,
   "id": "e2313bb9-b13f-46d6-97d0-3421f46c5956",
   "metadata": {},
   "outputs": [],
   "source": [
    "p = torch.tensor([1, 2, 3])\n",
    "xx = x.unsqueeze(-1).pow(p)"
   ]
  },
  {
   "cell_type": "code",
   "execution_count": 4,
   "id": "c848f8d7-ebe5-4393-a450-8704ed43b9c1",
   "metadata": {},
   "outputs": [],
   "source": [
    "model  = torch.nn.Sequential(torch.nn.Linear(3, 1),\n",
    "                            torch.nn.Flatten(0, 1))"
   ]
  },
  {
   "cell_type": "code",
   "execution_count": 5,
   "id": "a4491f3d-ceff-484c-afbe-64af186adbe3",
   "metadata": {},
   "outputs": [],
   "source": [
    "loss_function = torch.nn.MSELoss(reduction='sum')"
   ]
  },
  {
   "cell_type": "code",
   "execution_count": 6,
   "id": "0224f01b-8436-4628-a78d-255658b7776d",
   "metadata": {},
   "outputs": [
    {
     "name": "stdout",
     "output_type": "stream",
     "text": [
      "99 563.0865478515625\n",
      "199 382.45703125\n",
      "299 260.93170166015625\n",
      "399 179.09814453125\n",
      "499 123.94192504882812\n",
      "599 86.73136901855469\n",
      "699 61.60309600830078\n",
      "799 44.61724090576172\n",
      "899 33.123558044433594\n",
      "999 25.338130950927734\n",
      "1099 20.05889320373535\n",
      "1199 16.47529411315918\n",
      "1299 14.039966583251953\n",
      "1399 12.38316535949707\n",
      "1499 11.25473403930664\n",
      "1599 10.485305786132812\n",
      "1699 9.960067749023438\n",
      "1799 9.601099967956543\n",
      "1899 9.355497360229492\n",
      "1999 9.187252044677734\n",
      "Results y = -0.015531983226537704 + 0.8446475863456726 x + 0.00267952517606318 x^2 + -0.09161022305488586 x^3\n"
     ]
    }
   ],
   "source": [
    "learning_rate = 1e-6\n",
    "for i in range(2000):\n",
    "    y_pred = model(xx)\n",
    "    loss = loss_function(y_pred, y)\n",
    "    if i%100 == 99:\n",
    "        print(i, loss.item())\n",
    "        \n",
    "    model.zero_grad()\n",
    "    \n",
    "    loss.backward()\n",
    "    \n",
    "    with torch.no_grad():\n",
    "        for param in model.parameters():\n",
    "            param -= learning_rate * param.grad\n",
    "            \n",
    "            \n",
    "linear_layer = model[0]\n",
    "\n",
    "print(f\"Results y = {linear_layer.bias.item()} + {linear_layer.weight[:, 0].item()} x + {linear_layer.weight[:, 1].item()} x^2 + {linear_layer.weight[:, 2].item()} x^3\")"
   ]
  },
  {
   "cell_type": "code",
   "execution_count": null,
   "id": "e5032de2-479a-4323-8761-8a47f270a503",
   "metadata": {},
   "outputs": [],
   "source": []
  }
 ],
 "metadata": {
  "kernelspec": {
   "display_name": "Python 3 (ipykernel)",
   "language": "python",
   "name": "python3"
  },
  "language_info": {
   "codemirror_mode": {
    "name": "ipython",
    "version": 3
   },
   "file_extension": ".py",
   "mimetype": "text/x-python",
   "name": "python",
   "nbconvert_exporter": "python",
   "pygments_lexer": "ipython3",
   "version": "3.7.13"
  }
 },
 "nbformat": 4,
 "nbformat_minor": 5
}
