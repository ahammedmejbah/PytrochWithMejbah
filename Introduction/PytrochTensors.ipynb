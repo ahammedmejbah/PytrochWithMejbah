{
 "cells": [
  {
   "cell_type": "code",
   "execution_count": 1,
   "id": "d2ae1ab3-efcf-4dd0-a0ab-06789d232f15",
   "metadata": {
    "tags": []
   },
   "outputs": [],
   "source": [
    "import torch\n",
    "import math\n",
    "\n",
    "dtype = torch.float\n",
    "device = torch.device('cuda:0')\n",
    "\n",
    "x = torch.linspace(-math.pi, math.pi, 2000, \n",
    "                  device = device,\n",
    "                  dtype = dtype)\n",
    "y = torch.sin(x)\n",
    "\n",
    "a = torch.randn((), device = device, dtype = dtype)\n",
    "b = torch.randn((), device = device, dtype = dtype)\n",
    "c = torch.randn((), device = device, dtype = dtype)\n",
    "d = torch.randn((), device = device, dtype = dtype)\n",
    "\n",
    "learning_rate = 1e-6\n",
    "for i in range(2000):\n",
    "    y_pred = a + b*x + c*x**2  + d*x**3 \n",
    "    loss = (y_pred - y).pow(2).sum().item()\n",
    "    \n",
    "    if i%100==99:\n",
    "        print(i, loss)\n",
    "        \n",
    "    gradient_y_pred = 2.0 * (y_pred - y)\n",
    "    gradient_a = gradient_y_pred.sum()\n",
    "    gradient_b = (gradient_y_pred * x).sum()\n",
    "    gradient_c = (gradient_y_pred*x**2).sum()\n",
    "    gradient_d = (gradient_y_pred*x**3).sum()\n",
    "    \n",
    "    \n",
    "    a -= learning_rate * gradient_a\n",
    "    b -= learning_rate * gradient_b\n",
    "    c -= learning_rate * gradient_c\n",
    "    d -= learning_rate * gradient_d\n",
    "    \n",
    "print(f\"\\nResults: y = {a.item()} + {b.item()} + {c.item()} x^2 + {d.item()} x^3\")\n",
    "\n"
   ]
  }
 ],
 "metadata": {
  "kernelspec": {
   "display_name": "Python 3 (ipykernel)",
   "language": "python",
   "name": "python3"
  },
  "language_info": {
   "codemirror_mode": {
    "name": "ipython",
    "version": 3
   },
   "file_extension": ".py",
   "mimetype": "text/x-python",
   "name": "python",
   "nbconvert_exporter": "python",
   "pygments_lexer": "ipython3",
   "version": "3.7.13"
  }
 },
 "nbformat": 4,
 "nbformat_minor": 5
}
