{
 "cells": [
  {
   "cell_type": "code",
   "execution_count": 1,
   "id": "e7be6fbb-bfb0-48e2-b5c3-d1c15ce976e4",
   "metadata": {},
   "outputs": [],
   "source": [
    "import torch\n",
    "import math"
   ]
  },
  {
   "cell_type": "code",
   "execution_count": 3,
   "id": "b214d5e0-f9a0-424f-b3c0-ebb036664733",
   "metadata": {},
   "outputs": [],
   "source": [
    "dtype = torch.float\n",
    "device = torch.device(\"cuda:0\")"
   ]
  },
  {
   "cell_type": "code",
   "execution_count": 5,
   "id": "9a659a38-28e1-4aa0-919b-5fbfe31e0e84",
   "metadata": {},
   "outputs": [],
   "source": [
    "x = torch.linspace(-math.pi, math.pi, 2000, device = device, dtype = dtype)\n",
    "y = torch.sin(x)"
   ]
  },
  {
   "cell_type": "code",
   "execution_count": 6,
   "id": "f27e9334-2544-45a0-84fc-da53782cdcf6",
   "metadata": {},
   "outputs": [],
   "source": [
    "a = torch.randn((), device = device, dtype = dtype, requires_grad = True)\n",
    "b = torch.randn((), device = device, dtype = dtype, requires_grad = True)\n",
    "c = torch.randn((), device = device, dtype = dtype, requires_grad = True)\n",
    "d = torch.randn((), device = device, dtype = dtype, requires_grad = True)"
   ]
  },
  {
   "cell_type": "code",
   "execution_count": 8,
   "id": "f66d21c3-fa24-4c63-b82e-eb0adc614dab",
   "metadata": {},
   "outputs": [
    {
     "name": "stdout",
     "output_type": "stream",
     "text": [
      "99 tensor(322.5670, device='cuda:0', grad_fn=<SumBackward0>)\n",
      "199 tensor(227.7785, device='cuda:0', grad_fn=<SumBackward0>)\n",
      "299 tensor(161.7396, device='cuda:0', grad_fn=<SumBackward0>)\n",
      "399 tensor(115.6934, device='cuda:0', grad_fn=<SumBackward0>)\n",
      "499 tensor(83.5625, device='cuda:0', grad_fn=<SumBackward0>)\n",
      "599 tensor(61.1251, device='cuda:0', grad_fn=<SumBackward0>)\n",
      "699 tensor(45.4457, device='cuda:0', grad_fn=<SumBackward0>)\n",
      "799 tensor(34.4813, device='cuda:0', grad_fn=<SumBackward0>)\n",
      "899 tensor(26.8091, device='cuda:0', grad_fn=<SumBackward0>)\n",
      "999 tensor(21.4372, device='cuda:0', grad_fn=<SumBackward0>)\n",
      "1099 tensor(17.6737, device='cuda:0', grad_fn=<SumBackward0>)\n",
      "1199 tensor(15.0356, device='cuda:0', grad_fn=<SumBackward0>)\n",
      "1299 tensor(13.1853, device='cuda:0', grad_fn=<SumBackward0>)\n",
      "1399 tensor(11.8869, device='cuda:0', grad_fn=<SumBackward0>)\n",
      "1499 tensor(10.9753, device='cuda:0', grad_fn=<SumBackward0>)\n",
      "1599 tensor(10.3350, device='cuda:0', grad_fn=<SumBackward0>)\n",
      "1699 tensor(9.8851, device='cuda:0', grad_fn=<SumBackward0>)\n",
      "1799 tensor(9.5688, device='cuda:0', grad_fn=<SumBackward0>)\n",
      "1899 tensor(9.3463, device='cuda:0', grad_fn=<SumBackward0>)\n",
      "1999 tensor(9.1899, device='cuda:0', grad_fn=<SumBackward0>)\n",
      " Results : y = 0.01972227171063423 + 0.8616514801979065 + -0.0034024184569716454 x^2 + -0.09402889013290405 x^3\n"
     ]
    }
   ],
   "source": [
    "learning_rate = 1e-6\n",
    "for i in range(2000):\n",
    "    y_pred = a + b*x + c*x**2 + d*x**3\n",
    "    \n",
    "    loss = (y_pred - y).pow(2).sum()\n",
    "    if i%100 == 99:\n",
    "        print(i, loss)\n",
    "        \n",
    "    loss.backward()\n",
    "    \n",
    "    with torch.no_grad():\n",
    "        a -= learning_rate * a.grad\n",
    "        b -= learning_rate * b.grad\n",
    "        c -= learning_rate * c.grad\n",
    "        d -= learning_rate * d.grad\n",
    "        \n",
    "        \n",
    "        a.grad = None\n",
    "        b.grad = None\n",
    "        c.grad = None\n",
    "        d.grad = None\n",
    "        \n",
    "print(f\" Results : y = {a.item()} + {b.item()} + {c.item()} x^2 + {d.item()} x^3\")"
   ]
  },
  {
   "cell_type": "code",
   "execution_count": null,
   "id": "d3c31c0f-5aba-454c-9d6e-1f2d099acfe6",
   "metadata": {},
   "outputs": [],
   "source": []
  }
 ],
 "metadata": {
  "kernelspec": {
   "display_name": "Python 3 (ipykernel)",
   "language": "python",
   "name": "python3"
  },
  "language_info": {
   "codemirror_mode": {
    "name": "ipython",
    "version": 3
   },
   "file_extension": ".py",
   "mimetype": "text/x-python",
   "name": "python",
   "nbconvert_exporter": "python",
   "pygments_lexer": "ipython3",
   "version": "3.7.13"
  }
 },
 "nbformat": 4,
 "nbformat_minor": 5
}
